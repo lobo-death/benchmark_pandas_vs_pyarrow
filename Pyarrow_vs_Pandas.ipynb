{
  "cells": [
    {
      "cell_type": "markdown",
      "metadata": {
        "id": "ZWxb5zvHhAEo"
      },
      "source": [
        "### PyArrow Vs Pandas"
      ]
    },
    {
      "cell_type": "markdown",
      "metadata": {
        "id": "yYbD-iJFh2FN"
      },
      "source": [
        "#### Install Packages"
      ]
    },
    {
      "cell_type": "code",
      "execution_count": 1,
      "metadata": {
        "colab": {
          "base_uri": "https://localhost:8080/"
        },
        "id": "MAUZsqLig-mQ",
        "outputId": "ee34f6dc-bacd-480f-8ed3-53d46eee8df3"
      },
      "outputs": [
        {
          "output_type": "stream",
          "name": "stdout",
          "text": [
            "Found existing installation: pyarrow 3.0.0\n",
            "Uninstalling pyarrow-3.0.0:\n",
            "  Successfully uninstalled pyarrow-3.0.0\n",
            "Collecting pyarrow\n",
            "  Downloading pyarrow-6.0.1-cp37-cp37m-manylinux_2_17_x86_64.manylinux2014_x86_64.whl (25.6 MB)\n",
            "\u001b[K     |████████████████████████████████| 25.6 MB 1.8 MB/s \n",
            "\u001b[?25hRequirement already satisfied: numpy>=1.16.6 in /usr/local/lib/python3.7/dist-packages (from pyarrow) (1.19.5)\n",
            "Installing collected packages: pyarrow\n",
            "Successfully installed pyarrow-6.0.1\n"
          ]
        }
      ],
      "source": [
        "!pip uninstall pyarrow -y\n",
        "!pip install pyarrow"
      ]
    },
    {
      "cell_type": "markdown",
      "metadata": {
        "id": "wh8MPtP9h5lg"
      },
      "source": [
        "#### Importing Packages"
      ]
    },
    {
      "cell_type": "code",
      "execution_count": 2,
      "metadata": {
        "id": "UW0uvQ5PhrDC"
      },
      "outputs": [],
      "source": [
        "from matplotlib import pyplot as plt\n",
        "from datetime import datetime"
      ]
    },
    {
      "cell_type": "code",
      "execution_count": 3,
      "metadata": {
        "id": "MnDJnUIthPCq"
      },
      "outputs": [],
      "source": [
        "import pyarrow.csv as csv\n",
        "import seaborn as sns\n",
        "import pyarrow as pa\n",
        "import pandas as pd\n",
        "import numpy as np\n",
        "import warnings\n",
        "import string\n",
        "import random\n",
        "import os"
      ]
    },
    {
      "cell_type": "markdown",
      "source": [
        "#### Configuring Warnings"
      ],
      "metadata": {
        "id": "d8gmMj8EOAgb"
      }
    },
    {
      "cell_type": "code",
      "source": [
        "warnings.simplefilter(\"ignore\")"
      ],
      "metadata": {
        "id": "_n050uvEyAfY"
      },
      "execution_count": 4,
      "outputs": []
    },
    {
      "cell_type": "code",
      "source": [
        "os.listdir()"
      ],
      "metadata": {
        "colab": {
          "base_uri": "https://localhost:8080/"
        },
        "id": "_aciPt5DyAxp",
        "outputId": "e7fd21d7-ec25-4c9a-e630-7a1b67bfc3aa"
      },
      "execution_count": 5,
      "outputs": [
        {
          "output_type": "execute_result",
          "data": {
            "text/plain": [
              "['.config', 'sample_data']"
            ]
          },
          "metadata": {},
          "execution_count": 5
        }
      ]
    },
    {
      "cell_type": "code",
      "source": [
        "# path = \"data/\""
      ],
      "metadata": {
        "id": "YUF9Zjr4yBDT"
      },
      "execution_count": 6,
      "outputs": []
    },
    {
      "cell_type": "code",
      "source": [
        "# os.listdir(path)"
      ],
      "metadata": {
        "id": "Sk20DcgLyBeU"
      },
      "execution_count": 7,
      "outputs": []
    },
    {
      "cell_type": "markdown",
      "source": [
        "#### Function to generate text"
      ],
      "metadata": {
        "id": "JMD-SoqpOG4W"
      }
    },
    {
      "cell_type": "code",
      "execution_count": 8,
      "metadata": {
        "id": "rZ1TrrLNhy0l"
      },
      "outputs": [],
      "source": [
        "def gen_random_string(length: int = 32) -> str:\n",
        "    return ''.join(random.choices(string.ascii_uppercase + string.digits, k=length))"
      ]
    },
    {
      "cell_type": "markdown",
      "source": [
        "#### Range Definition"
      ],
      "metadata": {
        "id": "mOi-Rc0MOO7n"
      }
    },
    {
      "cell_type": "code",
      "execution_count": 9,
      "metadata": {
        "id": "GIQEYrtQirTP"
      },
      "outputs": [],
      "source": [
        "dt = pd.date_range(\n",
        "    start=datetime(2000, 1, 1),\n",
        "    end=datetime(2021, 1, 1),\n",
        "    freq='min'\n",
        ")"
      ]
    },
    {
      "cell_type": "code",
      "execution_count": 10,
      "metadata": {
        "colab": {
          "base_uri": "https://localhost:8080/"
        },
        "id": "MGF71z_oikPP",
        "outputId": "8ffb7fa6-e07f-417e-b4b8-5d3e8968f64a"
      },
      "outputs": [
        {
          "output_type": "stream",
          "name": "stdout",
          "text": [
            "Dataset length: 11046241\n"
          ]
        }
      ],
      "source": [
        "np.random.seed = 42\n",
        "df_size = len(dt)\n",
        "print(f'Dataset length: {df_size}')"
      ]
    },
    {
      "cell_type": "markdown",
      "source": [
        "#### Creating DataFrame"
      ],
      "metadata": {
        "id": "_MWmK1nYOUO3"
      }
    },
    {
      "cell_type": "code",
      "execution_count": 11,
      "metadata": {
        "id": "7Xb7PKRpigoF"
      },
      "outputs": [],
      "source": [
        "df = pd.DataFrame({\n",
        "    'date': dt,\n",
        "    'a': np.random.rand(df_size),\n",
        "    'b': np.random.rand(df_size),\n",
        "    'c': np.random.rand(df_size),\n",
        "    'd': np.random.rand(df_size),\n",
        "    'e': np.random.rand(df_size),\n",
        "    'str1': [gen_random_string() for x in range(df_size)],\n",
        "    'str2': [gen_random_string() for x in range(df_size)]\n",
        "})"
      ]
    },
    {
      "cell_type": "code",
      "execution_count": 12,
      "metadata": {
        "colab": {
          "base_uri": "https://localhost:8080/",
          "height": 444
        },
        "id": "-0v-lQlcjSLN",
        "outputId": "ac338b23-04dc-4a04-b621-58a74b6d0571"
      },
      "outputs": [
        {
          "output_type": "execute_result",
          "data": {
            "text/html": [
              "\n",
              "  <div id=\"df-557ec2ec-b01c-4e72-9150-bf5d16e9027a\">\n",
              "    <div class=\"colab-df-container\">\n",
              "      <div>\n",
              "<style scoped>\n",
              "    .dataframe tbody tr th:only-of-type {\n",
              "        vertical-align: middle;\n",
              "    }\n",
              "\n",
              "    .dataframe tbody tr th {\n",
              "        vertical-align: top;\n",
              "    }\n",
              "\n",
              "    .dataframe thead th {\n",
              "        text-align: right;\n",
              "    }\n",
              "</style>\n",
              "<table border=\"1\" class=\"dataframe\">\n",
              "  <thead>\n",
              "    <tr style=\"text-align: right;\">\n",
              "      <th></th>\n",
              "      <th>date</th>\n",
              "      <th>a</th>\n",
              "      <th>b</th>\n",
              "      <th>c</th>\n",
              "      <th>d</th>\n",
              "      <th>e</th>\n",
              "      <th>str1</th>\n",
              "      <th>str2</th>\n",
              "    </tr>\n",
              "  </thead>\n",
              "  <tbody>\n",
              "    <tr>\n",
              "      <th>0</th>\n",
              "      <td>2000-01-01 00:00:00</td>\n",
              "      <td>0.413117</td>\n",
              "      <td>0.580046</td>\n",
              "      <td>0.648516</td>\n",
              "      <td>0.361599</td>\n",
              "      <td>0.793112</td>\n",
              "      <td>8F8TEADZ7HKKCVV2TMI5VMDLLAESUWOR</td>\n",
              "      <td>L01TEOAPLPVHPCHFDAB1TN6G71BI767O</td>\n",
              "    </tr>\n",
              "    <tr>\n",
              "      <th>1</th>\n",
              "      <td>2000-01-01 00:01:00</td>\n",
              "      <td>0.118746</td>\n",
              "      <td>0.766649</td>\n",
              "      <td>0.958839</td>\n",
              "      <td>0.950292</td>\n",
              "      <td>0.329922</td>\n",
              "      <td>ABADWCNVXEFNC7ODCIGQ5T0NDLDS82XW</td>\n",
              "      <td>0RMTUQGFSGOTJW862TKNVTY3KP9KQVS4</td>\n",
              "    </tr>\n",
              "    <tr>\n",
              "      <th>2</th>\n",
              "      <td>2000-01-01 00:02:00</td>\n",
              "      <td>0.711672</td>\n",
              "      <td>0.358941</td>\n",
              "      <td>0.583313</td>\n",
              "      <td>0.311804</td>\n",
              "      <td>0.638174</td>\n",
              "      <td>U1FCY1RLXK50FLAURVW8GI6NFUYB6E3I</td>\n",
              "      <td>Q3CZZBHHONZGYXM9RPSHUJJKKO3D5TDH</td>\n",
              "    </tr>\n",
              "    <tr>\n",
              "      <th>3</th>\n",
              "      <td>2000-01-01 00:03:00</td>\n",
              "      <td>0.281938</td>\n",
              "      <td>0.059872</td>\n",
              "      <td>0.413423</td>\n",
              "      <td>0.481988</td>\n",
              "      <td>0.757346</td>\n",
              "      <td>QL05HLHHI0I0MXICWDDTS2ZB2PVC7QP7</td>\n",
              "      <td>6XSOKHIPC79LCSAIYMGX68G0LPL5M2AL</td>\n",
              "    </tr>\n",
              "    <tr>\n",
              "      <th>4</th>\n",
              "      <td>2000-01-01 00:04:00</td>\n",
              "      <td>0.289038</td>\n",
              "      <td>0.002154</td>\n",
              "      <td>0.216899</td>\n",
              "      <td>0.475868</td>\n",
              "      <td>0.582419</td>\n",
              "      <td>0YFR9SELNFUKONQSMVRXKIHI4534QBTC</td>\n",
              "      <td>19OLSZCD37EC3ZJRJFB29K5KXS63B6K8</td>\n",
              "    </tr>\n",
              "  </tbody>\n",
              "</table>\n",
              "</div>\n",
              "      <button class=\"colab-df-convert\" onclick=\"convertToInteractive('df-557ec2ec-b01c-4e72-9150-bf5d16e9027a')\"\n",
              "              title=\"Convert this dataframe to an interactive table.\"\n",
              "              style=\"display:none;\">\n",
              "        \n",
              "  <svg xmlns=\"http://www.w3.org/2000/svg\" height=\"24px\"viewBox=\"0 0 24 24\"\n",
              "       width=\"24px\">\n",
              "    <path d=\"M0 0h24v24H0V0z\" fill=\"none\"/>\n",
              "    <path d=\"M18.56 5.44l.94 2.06.94-2.06 2.06-.94-2.06-.94-.94-2.06-.94 2.06-2.06.94zm-11 1L8.5 8.5l.94-2.06 2.06-.94-2.06-.94L8.5 2.5l-.94 2.06-2.06.94zm10 10l.94 2.06.94-2.06 2.06-.94-2.06-.94-.94-2.06-.94 2.06-2.06.94z\"/><path d=\"M17.41 7.96l-1.37-1.37c-.4-.4-.92-.59-1.43-.59-.52 0-1.04.2-1.43.59L10.3 9.45l-7.72 7.72c-.78.78-.78 2.05 0 2.83L4 21.41c.39.39.9.59 1.41.59.51 0 1.02-.2 1.41-.59l7.78-7.78 2.81-2.81c.8-.78.8-2.07 0-2.86zM5.41 20L4 18.59l7.72-7.72 1.47 1.35L5.41 20z\"/>\n",
              "  </svg>\n",
              "      </button>\n",
              "      \n",
              "  <style>\n",
              "    .colab-df-container {\n",
              "      display:flex;\n",
              "      flex-wrap:wrap;\n",
              "      gap: 12px;\n",
              "    }\n",
              "\n",
              "    .colab-df-convert {\n",
              "      background-color: #E8F0FE;\n",
              "      border: none;\n",
              "      border-radius: 50%;\n",
              "      cursor: pointer;\n",
              "      display: none;\n",
              "      fill: #1967D2;\n",
              "      height: 32px;\n",
              "      padding: 0 0 0 0;\n",
              "      width: 32px;\n",
              "    }\n",
              "\n",
              "    .colab-df-convert:hover {\n",
              "      background-color: #E2EBFA;\n",
              "      box-shadow: 0px 1px 2px rgba(60, 64, 67, 0.3), 0px 1px 3px 1px rgba(60, 64, 67, 0.15);\n",
              "      fill: #174EA6;\n",
              "    }\n",
              "\n",
              "    [theme=dark] .colab-df-convert {\n",
              "      background-color: #3B4455;\n",
              "      fill: #D2E3FC;\n",
              "    }\n",
              "\n",
              "    [theme=dark] .colab-df-convert:hover {\n",
              "      background-color: #434B5C;\n",
              "      box-shadow: 0px 1px 3px 1px rgba(0, 0, 0, 0.15);\n",
              "      filter: drop-shadow(0px 1px 2px rgba(0, 0, 0, 0.3));\n",
              "      fill: #FFFFFF;\n",
              "    }\n",
              "  </style>\n",
              "\n",
              "      <script>\n",
              "        const buttonEl =\n",
              "          document.querySelector('#df-557ec2ec-b01c-4e72-9150-bf5d16e9027a button.colab-df-convert');\n",
              "        buttonEl.style.display =\n",
              "          google.colab.kernel.accessAllowed ? 'block' : 'none';\n",
              "\n",
              "        async function convertToInteractive(key) {\n",
              "          const element = document.querySelector('#df-557ec2ec-b01c-4e72-9150-bf5d16e9027a');\n",
              "          const dataTable =\n",
              "            await google.colab.kernel.invokeFunction('convertToInteractive',\n",
              "                                                     [key], {});\n",
              "          if (!dataTable) return;\n",
              "\n",
              "          const docLinkHtml = 'Like what you see? Visit the ' +\n",
              "            '<a target=\"_blank\" href=https://colab.research.google.com/notebooks/data_table.ipynb>data table notebook</a>'\n",
              "            + ' to learn more about interactive tables.';\n",
              "          element.innerHTML = '';\n",
              "          dataTable['output_type'] = 'display_data';\n",
              "          await google.colab.output.renderOutput(dataTable, element);\n",
              "          const docLink = document.createElement('div');\n",
              "          docLink.innerHTML = docLinkHtml;\n",
              "          element.appendChild(docLink);\n",
              "        }\n",
              "      </script>\n",
              "    </div>\n",
              "  </div>\n",
              "  "
            ],
            "text/plain": [
              "                 date  ...                              str2\n",
              "0 2000-01-01 00:00:00  ...  L01TEOAPLPVHPCHFDAB1TN6G71BI767O\n",
              "1 2000-01-01 00:01:00  ...  0RMTUQGFSGOTJW862TKNVTY3KP9KQVS4\n",
              "2 2000-01-01 00:02:00  ...  Q3CZZBHHONZGYXM9RPSHUJJKKO3D5TDH\n",
              "3 2000-01-01 00:03:00  ...  6XSOKHIPC79LCSAIYMGX68G0LPL5M2AL\n",
              "4 2000-01-01 00:04:00  ...  19OLSZCD37EC3ZJRJFB29K5KXS63B6K8\n",
              "\n",
              "[5 rows x 8 columns]"
            ]
          },
          "metadata": {},
          "execution_count": 12
        }
      ],
      "source": [
        "df.head()"
      ]
    },
    {
      "cell_type": "code",
      "execution_count": 13,
      "metadata": {
        "id": "P-vm1Z6_kdTq",
        "colab": {
          "base_uri": "https://localhost:8080/",
          "height": 444
        },
        "outputId": "b125ae56-1a58-42e3-cbff-23dd4feae902"
      },
      "outputs": [
        {
          "output_type": "execute_result",
          "data": {
            "text/html": [
              "\n",
              "  <div id=\"df-750ba977-bc0a-44cb-ac35-d85d4b8b71fd\">\n",
              "    <div class=\"colab-df-container\">\n",
              "      <div>\n",
              "<style scoped>\n",
              "    .dataframe tbody tr th:only-of-type {\n",
              "        vertical-align: middle;\n",
              "    }\n",
              "\n",
              "    .dataframe tbody tr th {\n",
              "        vertical-align: top;\n",
              "    }\n",
              "\n",
              "    .dataframe thead th {\n",
              "        text-align: right;\n",
              "    }\n",
              "</style>\n",
              "<table border=\"1\" class=\"dataframe\">\n",
              "  <thead>\n",
              "    <tr style=\"text-align: right;\">\n",
              "      <th></th>\n",
              "      <th>date</th>\n",
              "      <th>a</th>\n",
              "      <th>b</th>\n",
              "      <th>c</th>\n",
              "      <th>d</th>\n",
              "      <th>e</th>\n",
              "      <th>str1</th>\n",
              "      <th>str2</th>\n",
              "    </tr>\n",
              "  </thead>\n",
              "  <tbody>\n",
              "    <tr>\n",
              "      <th>11046236</th>\n",
              "      <td>2020-12-31 23:56:00</td>\n",
              "      <td>0.285897</td>\n",
              "      <td>0.569772</td>\n",
              "      <td>0.365507</td>\n",
              "      <td>0.011462</td>\n",
              "      <td>0.803029</td>\n",
              "      <td>PU8A7P19FG6XF6ELTMT6X52GD71MSVFJ</td>\n",
              "      <td>CDOBMNAV69BDS71VOAYCMHK3DA65L0SW</td>\n",
              "    </tr>\n",
              "    <tr>\n",
              "      <th>11046237</th>\n",
              "      <td>2020-12-31 23:57:00</td>\n",
              "      <td>0.971400</td>\n",
              "      <td>0.521002</td>\n",
              "      <td>0.484116</td>\n",
              "      <td>0.312588</td>\n",
              "      <td>0.697383</td>\n",
              "      <td>1WZEJRYHXYC6GUK7B8Z6ZNY4MDTKYTDU</td>\n",
              "      <td>JN2MAU8BINOZWXGYP7LB33SU315B51ZG</td>\n",
              "    </tr>\n",
              "    <tr>\n",
              "      <th>11046238</th>\n",
              "      <td>2020-12-31 23:58:00</td>\n",
              "      <td>0.785931</td>\n",
              "      <td>0.704964</td>\n",
              "      <td>0.054832</td>\n",
              "      <td>0.577305</td>\n",
              "      <td>0.786436</td>\n",
              "      <td>PTXVAG896K7GVAJBAQM6OE1AH8G2JDFR</td>\n",
              "      <td>60XO2PTYPL11TN2LGJ4KAYC03NIYUCEM</td>\n",
              "    </tr>\n",
              "    <tr>\n",
              "      <th>11046239</th>\n",
              "      <td>2020-12-31 23:59:00</td>\n",
              "      <td>0.476855</td>\n",
              "      <td>0.850314</td>\n",
              "      <td>0.439231</td>\n",
              "      <td>0.243211</td>\n",
              "      <td>0.477444</td>\n",
              "      <td>07BRHTX4TOIFBRCXMP5F6O95S57XQ261</td>\n",
              "      <td>H65UINMWYHCUD03Z76ZGEKWHRM0JZ3GB</td>\n",
              "    </tr>\n",
              "    <tr>\n",
              "      <th>11046240</th>\n",
              "      <td>2021-01-01 00:00:00</td>\n",
              "      <td>0.081740</td>\n",
              "      <td>0.401563</td>\n",
              "      <td>0.179233</td>\n",
              "      <td>0.034944</td>\n",
              "      <td>0.904810</td>\n",
              "      <td>D5SM5T8PW91F8NWQXV0ZECISGI6QLNZU</td>\n",
              "      <td>VH7YDQ05M556LNVA9J5B4B20L4DEESBT</td>\n",
              "    </tr>\n",
              "  </tbody>\n",
              "</table>\n",
              "</div>\n",
              "      <button class=\"colab-df-convert\" onclick=\"convertToInteractive('df-750ba977-bc0a-44cb-ac35-d85d4b8b71fd')\"\n",
              "              title=\"Convert this dataframe to an interactive table.\"\n",
              "              style=\"display:none;\">\n",
              "        \n",
              "  <svg xmlns=\"http://www.w3.org/2000/svg\" height=\"24px\"viewBox=\"0 0 24 24\"\n",
              "       width=\"24px\">\n",
              "    <path d=\"M0 0h24v24H0V0z\" fill=\"none\"/>\n",
              "    <path d=\"M18.56 5.44l.94 2.06.94-2.06 2.06-.94-2.06-.94-.94-2.06-.94 2.06-2.06.94zm-11 1L8.5 8.5l.94-2.06 2.06-.94-2.06-.94L8.5 2.5l-.94 2.06-2.06.94zm10 10l.94 2.06.94-2.06 2.06-.94-2.06-.94-.94-2.06-.94 2.06-2.06.94z\"/><path d=\"M17.41 7.96l-1.37-1.37c-.4-.4-.92-.59-1.43-.59-.52 0-1.04.2-1.43.59L10.3 9.45l-7.72 7.72c-.78.78-.78 2.05 0 2.83L4 21.41c.39.39.9.59 1.41.59.51 0 1.02-.2 1.41-.59l7.78-7.78 2.81-2.81c.8-.78.8-2.07 0-2.86zM5.41 20L4 18.59l7.72-7.72 1.47 1.35L5.41 20z\"/>\n",
              "  </svg>\n",
              "      </button>\n",
              "      \n",
              "  <style>\n",
              "    .colab-df-container {\n",
              "      display:flex;\n",
              "      flex-wrap:wrap;\n",
              "      gap: 12px;\n",
              "    }\n",
              "\n",
              "    .colab-df-convert {\n",
              "      background-color: #E8F0FE;\n",
              "      border: none;\n",
              "      border-radius: 50%;\n",
              "      cursor: pointer;\n",
              "      display: none;\n",
              "      fill: #1967D2;\n",
              "      height: 32px;\n",
              "      padding: 0 0 0 0;\n",
              "      width: 32px;\n",
              "    }\n",
              "\n",
              "    .colab-df-convert:hover {\n",
              "      background-color: #E2EBFA;\n",
              "      box-shadow: 0px 1px 2px rgba(60, 64, 67, 0.3), 0px 1px 3px 1px rgba(60, 64, 67, 0.15);\n",
              "      fill: #174EA6;\n",
              "    }\n",
              "\n",
              "    [theme=dark] .colab-df-convert {\n",
              "      background-color: #3B4455;\n",
              "      fill: #D2E3FC;\n",
              "    }\n",
              "\n",
              "    [theme=dark] .colab-df-convert:hover {\n",
              "      background-color: #434B5C;\n",
              "      box-shadow: 0px 1px 3px 1px rgba(0, 0, 0, 0.15);\n",
              "      filter: drop-shadow(0px 1px 2px rgba(0, 0, 0, 0.3));\n",
              "      fill: #FFFFFF;\n",
              "    }\n",
              "  </style>\n",
              "\n",
              "      <script>\n",
              "        const buttonEl =\n",
              "          document.querySelector('#df-750ba977-bc0a-44cb-ac35-d85d4b8b71fd button.colab-df-convert');\n",
              "        buttonEl.style.display =\n",
              "          google.colab.kernel.accessAllowed ? 'block' : 'none';\n",
              "\n",
              "        async function convertToInteractive(key) {\n",
              "          const element = document.querySelector('#df-750ba977-bc0a-44cb-ac35-d85d4b8b71fd');\n",
              "          const dataTable =\n",
              "            await google.colab.kernel.invokeFunction('convertToInteractive',\n",
              "                                                     [key], {});\n",
              "          if (!dataTable) return;\n",
              "\n",
              "          const docLinkHtml = 'Like what you see? Visit the ' +\n",
              "            '<a target=\"_blank\" href=https://colab.research.google.com/notebooks/data_table.ipynb>data table notebook</a>'\n",
              "            + ' to learn more about interactive tables.';\n",
              "          element.innerHTML = '';\n",
              "          dataTable['output_type'] = 'display_data';\n",
              "          await google.colab.output.renderOutput(dataTable, element);\n",
              "          const docLink = document.createElement('div');\n",
              "          docLink.innerHTML = docLinkHtml;\n",
              "          element.appendChild(docLink);\n",
              "        }\n",
              "      </script>\n",
              "    </div>\n",
              "  </div>\n",
              "  "
            ],
            "text/plain": [
              "                        date  ...                              str2\n",
              "11046236 2020-12-31 23:56:00  ...  CDOBMNAV69BDS71VOAYCMHK3DA65L0SW\n",
              "11046237 2020-12-31 23:57:00  ...  JN2MAU8BINOZWXGYP7LB33SU315B51ZG\n",
              "11046238 2020-12-31 23:58:00  ...  60XO2PTYPL11TN2LGJ4KAYC03NIYUCEM\n",
              "11046239 2020-12-31 23:59:00  ...  H65UINMWYHCUD03Z76ZGEKWHRM0JZ3GB\n",
              "11046240 2021-01-01 00:00:00  ...  VH7YDQ05M556LNVA9J5B4B20L4DEESBT\n",
              "\n",
              "[5 rows x 8 columns]"
            ]
          },
          "metadata": {},
          "execution_count": 13
        }
      ],
      "source": [
        "df.tail()"
      ]
    },
    {
      "cell_type": "markdown",
      "source": [
        "#### Writing with Pandas"
      ],
      "metadata": {
        "id": "DzVsKjY1OgqK"
      }
    },
    {
      "cell_type": "code",
      "execution_count": null,
      "metadata": {
        "id": "BjtT2qzlklBp",
        "colab": {
          "base_uri": "https://localhost:8080/"
        },
        "outputId": "4ce1c147-3b87-4b5c-9e76-ce98a1fe1b58"
      },
      "outputs": [
        {
          "output_type": "stream",
          "name": "stdout",
          "text": [
            "Tempo decorrido: 0:02:24.540605 ou 144 segundos.\n",
            "Tempo decorrido: 0:02:28.776844 ou 148 segundos.\n",
            "Tempo decorrido: 0:02:36.361247 ou 156 segundos.\n",
            "Tempo decorrido: 0:02:31.485221 ou 151 segundos.\n",
            "Tempo decorrido: 0:02:34.269429 ou 154 segundos.\n",
            "Tempo decorrido: 0:02:35.732874 ou 155 segundos.\n"
          ]
        }
      ],
      "source": [
        "pd_write_list = []\n",
        "for pwl in range(50):\n",
        "    time_start = datetime.now()\n",
        "    df.to_csv('csv_pandas.csv', index=False, sep=';', header=True)\n",
        "    time_end = datetime.now()\n",
        "    w_pd_csv = time_end - time_start\n",
        "    pd_write_list.append(w_pd_csv.seconds)\n",
        "    print(\"Tempo decorrido: {} ou {} segundos.\".format(w_pd_csv, w_pd_csv.seconds))"
      ]
    },
    {
      "cell_type": "markdown",
      "source": [
        "#### Writing with Pandas and Compression"
      ],
      "metadata": {
        "id": "t6D6eEVgOm_Z"
      }
    },
    {
      "cell_type": "code",
      "execution_count": null,
      "metadata": {
        "id": "noOd-8EIlpA5"
      },
      "outputs": [],
      "source": [
        "pd_gz_write_list = []\n",
        "for pgwl in range(50):\n",
        "    time_start = datetime.now()\n",
        "    df.to_csv('csv_pandas.csv.gz', index=False, sep=';', header=True, compression='gzip')\n",
        "    time_end = datetime.now()\n",
        "    w_pd_csv_gz = time_end - time_start\n",
        "    pd_gz_write_list.append(w_pd_csv_gz.seconds)\n",
        "    print(\"Tempo decorrido: {} ou {} segundos.\".format(w_pd_csv_gz, w_pd_csv_gz.seconds))"
      ]
    },
    {
      "cell_type": "markdown",
      "source": [
        "#### Reading with Pandas"
      ],
      "metadata": {
        "id": "7q7wJKXHOtap"
      }
    },
    {
      "cell_type": "code",
      "execution_count": null,
      "metadata": {
        "id": "zNXqiS_BmxKy"
      },
      "outputs": [],
      "source": [
        "pd_read_list = []\n",
        "for prl in range(50):\n",
        "    time_start = datetime.now()\n",
        "    df1 = pd.read_csv('csv_pandas.csv', sep=';')\n",
        "    time_end = datetime.now()\n",
        "    r_pd_csv = time_end - time_start\n",
        "    pd_read_list.append(r_pd_csv.seconds)\n",
        "    print(\"Tempo decorrido: {} ou {} segundos.\".format(r_pd_csv, r_pd_csv.seconds))"
      ]
    },
    {
      "cell_type": "markdown",
      "source": [
        "#### Reading with Pandas and Compression"
      ],
      "metadata": {
        "id": "oYmDqcVuOv5E"
      }
    },
    {
      "cell_type": "code",
      "execution_count": null,
      "metadata": {
        "id": "ax05hCAMnNlF"
      },
      "outputs": [],
      "source": [
        "pd_gz_read_list = []\n",
        "for pgrl in range(50):\n",
        "    time_start = datetime.now()\n",
        "    df2 = pd.read_csv('csv_pandas.csv.gz', sep=';')\n",
        "    time_end = datetime.now()\n",
        "    r_pd_csv_gz = time_end - time_start\n",
        "    pd_gz_read_list.append(r_pd_csv_gz.seconds)\n",
        "    print(\"Tempo decorrido: {} ou {} segundos.\".format(r_pd_csv_gz, r_pd_csv_gz.seconds))"
      ]
    },
    {
      "cell_type": "code",
      "execution_count": null,
      "metadata": {
        "id": "DfVI19ZtnUwP"
      },
      "outputs": [],
      "source": [
        ""
      ]
    },
    {
      "cell_type": "markdown",
      "source": [
        "#### Creating a copy of the DataFrame"
      ],
      "metadata": {
        "id": "Bp54YGScO1t9"
      }
    },
    {
      "cell_type": "code",
      "execution_count": null,
      "metadata": {
        "id": "gs2J6Tr5n-Xt"
      },
      "outputs": [],
      "source": [
        "df_pa = df.copy()\n",
        "df_pa['date'] = df_pa['date'].values.astype(np.int64) // 10 ** 9"
      ]
    },
    {
      "cell_type": "code",
      "execution_count": null,
      "metadata": {
        "id": "OhG2gf1ooA8F"
      },
      "outputs": [],
      "source": [
        "df_pa.head()"
      ]
    },
    {
      "cell_type": "code",
      "execution_count": null,
      "metadata": {
        "id": "O3jAfmz3ock3"
      },
      "outputs": [],
      "source": [
        "df_pa.tail()"
      ]
    },
    {
      "cell_type": "markdown",
      "source": [
        "#### Transforming DataFrame to Table"
      ],
      "metadata": {
        "id": "md1Id8deO8oQ"
      }
    },
    {
      "cell_type": "code",
      "execution_count": null,
      "metadata": {
        "id": "Pc6o253lod5D"
      },
      "outputs": [],
      "source": [
        "df_pa_table = pa.Table.from_pandas(df_pa)"
      ]
    },
    {
      "cell_type": "markdown",
      "source": [
        "#### Writing with PyArrow"
      ],
      "metadata": {
        "id": "BnL2c3ifPChr"
      }
    },
    {
      "cell_type": "code",
      "execution_count": null,
      "metadata": {
        "id": "0NovQf3LofBa"
      },
      "outputs": [],
      "source": [
        "pa_write_list = []\n",
        "for pawl in range(50):\n",
        "    time_start = datetime.now()\n",
        "    csv.write_csv(df_pa_table, 'csv_pyarrow.csv')\n",
        "    time_end = datetime.now()\n",
        "    w_pa_csv = time_end - time_start\n",
        "    pa_write_list.append(w_pa_csv.seconds)\n",
        "    print(\"Tempo decorrido: {} ou {} segundos.\".format(w_pa_csv, w_pa_csv.seconds))"
      ]
    },
    {
      "cell_type": "markdown",
      "source": [
        "#### Writing with PyArrow and Compression"
      ],
      "metadata": {
        "id": "pBfr8w3FPGwd"
      }
    },
    {
      "cell_type": "code",
      "execution_count": null,
      "metadata": {
        "id": "U-6wjwfHoj2p"
      },
      "outputs": [],
      "source": [
        "pa_gz_write_list = []\n",
        "for pagwl in range(50):\n",
        "    with pa.CompressedOutputStream('csv_pyarrow.csv.gz', 'gzip') as out:\n",
        "        time_start = datetime.now()\n",
        "        csv.write_csv(df_pa_table, out)\n",
        "        time_end = datetime.now()\n",
        "        w_pa_csv_gz = time_end - time_start\n",
        "        pa_gz_write_list.append(w_pa_csv_gz.seconds)\n",
        "        print(\"Tempo decorrido: {} ou {} segundos.\".format(w_pa_csv_gz, w_pa_csv_gz.seconds))"
      ]
    },
    {
      "cell_type": "markdown",
      "source": [
        "#### Reading with PyArrow"
      ],
      "metadata": {
        "id": "kTJy7GVOPLJ5"
      }
    },
    {
      "cell_type": "code",
      "execution_count": null,
      "metadata": {
        "id": "stzMEbYBonVJ"
      },
      "outputs": [],
      "source": [
        "pa_read_list = []\n",
        "for parl in range(50):\n",
        "    time_start = datetime.now()\n",
        "    df_pa_1 = csv.read_csv('csv_pyarrow.csv')\n",
        "    time_end = datetime.now()\n",
        "    r_pa_csv = time_end - time_start\n",
        "    pa_read_list.append(r_pa_csv.seconds)\n",
        "    print(\"Tempo decorrido: {} ou {} segundos.\".format(r_pa_csv, r_pa_csv.seconds))"
      ]
    },
    {
      "cell_type": "markdown",
      "source": [
        "#### Reading with PyArrow and Compression"
      ],
      "metadata": {
        "id": "BD0gEPpIPOP9"
      }
    },
    {
      "cell_type": "code",
      "execution_count": null,
      "metadata": {
        "id": "CH4GPwsCpjyg"
      },
      "outputs": [],
      "source": [
        "pa_gz_read_list = []\n",
        "for pagrl in range(50):\n",
        "    time_start = datetime.now()\n",
        "    df_pa_2 = csv.read_csv('csv_pyarrow.csv.gz')\n",
        "    time_end = datetime.now()\n",
        "    r_pa_csv_gz = time_end - time_start\n",
        "    pa_gz_read_list.append(r_pa_csv_gz.seconds)\n",
        "    print(\"Tempo decorrido: {} ou {} segundos.\".format(r_pa_csv_gz, r_pa_csv_gz.seconds))"
      ]
    },
    {
      "cell_type": "markdown",
      "source": [
        "#### Creating a Write DataFrame with Results"
      ],
      "metadata": {
        "id": "ogOwkNgYPV9-"
      }
    },
    {
      "cell_type": "code",
      "execution_count": null,
      "metadata": {
        "id": "rOtikyKLpvJ3"
      },
      "outputs": [],
      "source": [
        "write = {\"write\": [\"pd_csv\", \"pd_csv_gz\", \"pa_csv\", \"pa_csv_gz\"],\n",
        "         \"values\": [w_pd_csv.seconds, w_pd_csv_gz.seconds, w_pa_csv.seconds, w_pa_csv_gz.seconds]}\n",
        "df_write = pd.DataFrame(write)"
      ]
    },
    {
      "cell_type": "code",
      "source": [
        "df_write"
      ],
      "metadata": {
        "id": "tRlULbOYBi3c"
      },
      "execution_count": null,
      "outputs": []
    },
    {
      "cell_type": "markdown",
      "source": [
        "#### Plotting the Results"
      ],
      "metadata": {
        "id": "BbGBVQbzPdMv"
      }
    },
    {
      "cell_type": "code",
      "source": [
        "sns.barplot(x=df_write[\"write\"], y=df_write[\"values\"], data=df_write)\n",
        "plt.title(\"Análise do tempo de escrita entre Pandas e PyArrow\")\n",
        "plt.xlabel(\"Arquivos Escritos\")\n",
        "plt.ylabel(\"Tempo da escrita em Segundos\")\n",
        "plt.show()"
      ],
      "metadata": {
        "id": "gmKRCzl8r0iP"
      },
      "execution_count": null,
      "outputs": []
    },
    {
      "cell_type": "markdown",
      "source": [
        "#### Creating a Read DataFrame"
      ],
      "metadata": {
        "id": "5ys7-5qtPkoo"
      }
    },
    {
      "cell_type": "code",
      "source": [
        "read = {\"read\": [\"pd_csv\", \"pd_csv_gz\", \"pa_csv\", \"pa_csv_gz\"],\n",
        "        \"values\": [r_pd_csv.seconds, r_pd_csv_gz.seconds, r_pa_csv.seconds, r_pa_csv_gz.seconds]}\n",
        "df_read = pd.DataFrame(read)"
      ],
      "metadata": {
        "id": "VDzs_19M-zOO"
      },
      "execution_count": null,
      "outputs": []
    },
    {
      "cell_type": "code",
      "source": [
        "df_read"
      ],
      "metadata": {
        "id": "Z1hBLbsi_BIi"
      },
      "execution_count": null,
      "outputs": []
    },
    {
      "cell_type": "markdown",
      "source": [
        "#### Plotting the Results"
      ],
      "metadata": {
        "id": "TdTi8O14Pocg"
      }
    },
    {
      "cell_type": "code",
      "source": [
        "sns.barplot(x=df_read[\"read\"], y=df_read[\"values\"], data=df_read)\n",
        "plt.title(\"Análise do tempo de leitura entre Pandas e PyArrow\")\n",
        "plt.xlabel(\"Arquivos Lidos\")\n",
        "plt.ylabel(\"Tempo da leitura em Segundos\")\n",
        "plt.show()"
      ],
      "metadata": {
        "id": "gKd0Myf59NQP"
      },
      "execution_count": null,
      "outputs": []
    },
    {
      "cell_type": "markdown",
      "source": [
        "#### Comparing Write Method between Pandas and PyArrow"
      ],
      "metadata": {
        "id": "UxGYL6egPurj"
      }
    },
    {
      "cell_type": "code",
      "source": [
        "plt.plot(pd_write_list)\n",
        "plt.plot(pa_write_list)\n",
        "plt.title(\"Análise do tempo de escrita entre Pandas e PyArrow\")\n",
        "plt.xlabel(\"Quantidade de Repetições de Escrita\")\n",
        "plt.ylabel(\"Tempo da escrita em segundos\")\n",
        "plt.show()"
      ],
      "metadata": {
        "id": "hvSXdLCN_0YB"
      },
      "execution_count": null,
      "outputs": []
    },
    {
      "cell_type": "markdown",
      "source": [
        "#### Comparing Write Method between Pandas and PyArrow with Compression"
      ],
      "metadata": {
        "id": "FZa_g2BXP1zu"
      }
    },
    {
      "cell_type": "code",
      "source": [
        "plt.plot(pd_gz_write_list)\n",
        "plt.plot(pa_gz_write_list)\n",
        "plt.title(\"Análise do tempo de escrita com compressão entre Pandas e PyArrow\")\n",
        "plt.xlabel(\"Quantidade de Repetições de Escrita com Compressão\")\n",
        "plt.ylabel(\"Tempo da escrita com compressão em segundos\")\n",
        "plt.show()"
      ],
      "metadata": {
        "id": "T8Qnc5yIIP7D"
      },
      "execution_count": null,
      "outputs": []
    },
    {
      "cell_type": "markdown",
      "source": [
        "#### Comparing Read Method between Pandas and PyArrow"
      ],
      "metadata": {
        "id": "2BCpL2TQP7k1"
      }
    },
    {
      "cell_type": "code",
      "source": [
        "plt.plot(pd_read_list)\n",
        "plt.plot(pa_read_list)\n",
        "plt.title(\"Análise do tempo de leitura entre Pandas e PyArrow\")\n",
        "plt.xlabel(\"Quantidade de Repetições de Leitura\")\n",
        "plt.ylabel(\"Tempo da leitura em segundos\")\n",
        "plt.show()"
      ],
      "metadata": {
        "id": "TO8drXkoIQNH"
      },
      "execution_count": null,
      "outputs": []
    },
    {
      "cell_type": "markdown",
      "source": [
        "#### Comparing Read Method between Pandas and PyArrow with Compression"
      ],
      "metadata": {
        "id": "v-d-Ie8fQBSc"
      }
    },
    {
      "cell_type": "code",
      "source": [
        "plt.plot(pd_gz_read_list)\n",
        "plt.plot(pa_gz_read_list)\n",
        "plt.title(\"Análise do tempo de leitura com compressão entre Pandas e PyArrow\")\n",
        "plt.xlabel(\"Quantidade de Repetições de Leitura com Compressão\")\n",
        "plt.ylabel(\"Tempo da leitura com compressão em segundos\")\n",
        "plt.show()"
      ],
      "metadata": {
        "id": "AKB1r75LIQWT"
      },
      "execution_count": null,
      "outputs": []
    },
    {
      "cell_type": "markdown",
      "source": [
        "### References\n",
        "\n",
        "##### https://towardsdatascience.com/stop-using-pandas-to-read-write-data-this-alternative-is-7-times-faster-893301633475"
      ],
      "metadata": {
        "id": "ClIJxlvgrRzI"
      }
    },
    {
      "cell_type": "code",
      "source": [
        ""
      ],
      "metadata": {
        "id": "RQmz6kUlrTpF"
      },
      "execution_count": null,
      "outputs": []
    }
  ],
  "metadata": {
    "colab": {
      "name": "Pyarrow_vs_Pandas.ipynb",
      "provenance": [],
      "collapsed_sections": []
    },
    "kernelspec": {
      "display_name": "Python 3",
      "name": "python3"
    },
    "language_info": {
      "name": "python"
    },
    "accelerator": "GPU"
  },
  "nbformat": 4,
  "nbformat_minor": 0
}